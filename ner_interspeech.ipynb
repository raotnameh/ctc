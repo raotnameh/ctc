{
 "cells": [
  {
   "cell_type": "code",
   "execution_count": 7,
   "metadata": {},
   "outputs": [],
   "source": [
    "import os\n",
    "from ctc_src import  *\n",
    "os.chdir(\"/home/hemant/E2E_NER-Through-Speech/S2T/\")\n",
    "from opts import add_decoder_args, add_inference_args\n",
    "from utils import load_model\n",
    "\n",
    "import numpy as np\n",
    "import torch\n",
    "from tqdm.auto import tqdm\n",
    "from data.data_loader import SpectrogramParser\n",
    "\n",
    "from opts import add_decoder_args, add_inference_args\n",
    "from utils import load_model"
   ]
  },
  {
   "cell_type": "code",
   "execution_count": 8,
   "metadata": {},
   "outputs": [],
   "source": [
    "labels = \"_'ABCDEFGHIJKLMNOPQRSTUVWXYZ \"\n",
    "alpha, beta, lm, oov_weight =1.96, 4, '/home/hemant/4_gram.arpa', 1\n",
    "scorer = Scorer(alpha,beta,lm,oov_weight)\n",
    "\n",
    "prune = 0.0001\n",
    "beam_size = 50"
   ]
  },
  {
   "cell_type": "code",
   "execution_count": 9,
   "metadata": {},
   "outputs": [],
   "source": [
    "def read_csv(d):\n",
    "    with open(d,\"r\") as f:\n",
    "        return f.readlines()\n",
    "    \n",
    "torch.set_grad_enabled(False)\n",
    "device = torch.device(\"cuda\")\n",
    "model = load_model(device, \"/home/hemant/asr_wm/models/deep/final.pth\")\n",
    "spect_parser = SpectrogramParser(model.audio_conf, normalize=True)\n",
    "\n",
    "torch.cuda.set_device(int(0))\n",
    "\n",
    "csv = read_csv('/home/hemant/asr_wm/data/ner/align_wav_txt/dev.csv')"
   ]
  },
  {
   "cell_type": "code",
   "execution_count": 10,
   "metadata": {
    "scrolled": true
   },
   "outputs": [
    {
     "data": {
      "application/vnd.jupyter.widget-view+json": {
       "model_id": "a47b816de7554b889875b1e437410e3e",
       "version_major": 2,
       "version_minor": 0
      },
      "text/plain": [
       "HBox(children=(FloatProgress(value=0.0, max=2.0), HTML(value='')))"
      ]
     },
     "metadata": {},
     "output_type": "display_data"
    },
    {
     "name": "stdout",
     "output_type": "stream",
     "text": [
      "\n",
      "Test Summary \tAverage WER 23.636\t\n"
     ]
    }
   ],
   "source": [
    "total_wer, num_tokens = 0, 0\n",
    "\n",
    "for i in tqdm(csv[:2]):\n",
    "    audio_path, reference_path = i.split(\",\")\n",
    "\n",
    "    spect = spect_parser.parse_audio(audio_path).contiguous()\n",
    "    spect = spect.view(1, 1, spect.size(0), spect.size(1))\n",
    "    spect = spect.to(device)\n",
    "\n",
    "    input_sizes = torch.IntTensor([spect.size(3)]).int()\n",
    "    out, output_sizes = model(spect, input_sizes)\n",
    "    out = out.cpu().detach().numpy()[0]\n",
    "\n",
    "    transcript = prefix_bsp(out,labels,scorer,log=False,prune=prune,beam_size=beam_size)\n",
    "    \n",
    "    with open(reference_path.replace(\"\\n\",\"\"),\"r\") as f:\n",
    "        reference = f.readline()\n",
    "    \n",
    "    wer_inst = wer_(transcript,reference)\n",
    "    total_wer += wer_inst\n",
    "    num_tokens += len(reference.split(' '))\n",
    "        \n",
    "wer = (float(total_wer) / num_tokens)*100\n",
    "print('Test Summary \\t'\n",
    "    'Average WER {wer:.3f}\\t'.format(wer=wer))"
   ]
  },
  {
   "cell_type": "code",
   "execution_count": null,
   "metadata": {},
   "outputs": [],
   "source": []
  },
  {
   "cell_type": "code",
   "execution_count": null,
   "metadata": {},
   "outputs": [],
   "source": []
  },
  {
   "cell_type": "code",
   "execution_count": null,
   "metadata": {
    "scrolled": true
   },
   "outputs": [
    {
     "name": "stdout",
     "output_type": "stream",
     "text": [
      "[4.0, 25.0]\n"
     ]
    },
    {
     "data": {
      "application/vnd.jupyter.widget-view+json": {
       "model_id": "622e6ca9bd7f4c3893dbccc0cf6b10fe",
       "version_major": 2,
       "version_minor": 0
      },
      "text/plain": [
       "HBox(children=(FloatProgress(value=0.0, max=625.0), HTML(value='')))"
      ]
     },
     "metadata": {},
     "output_type": "display_data"
    },
    {
     "name": "stdout",
     "output_type": "stream",
     "text": [
      "aplha:  0.1 beta:  0.1\n"
     ]
    }
   ],
   "source": [
    "alpha, beta = np.linspace(0.1,4,25), np.linspace(0.1,25,25)\n",
    "values = [[i,j] for j in beta for i in alpha]\n",
    "\n",
    "total_wer, num_tokens = 0, 0\n",
    "output = 'alpha\\tbeta\\twer\\n'\n",
    "\n",
    "print(values[-1])\n",
    "for alpha,beta in tqdm(values):\n",
    "    scorer.reset_params(alpha,beta)\n",
    "    print(\"aplha: \",alpha,\"beta: \",beta)\n",
    "    \n",
    "    for i in csv:\n",
    "        audio_path, reference_path = i.split(\",\")\n",
    "\n",
    "        spect = spect_parser.parse_audio(audio_path).contiguous()\n",
    "        spect = spect.view(1, 1, spect.size(0), spect.size(1))\n",
    "        spect = spect.to(device)\n",
    "\n",
    "        input_sizes = torch.IntTensor([spect.size(3)]).int()\n",
    "        out, output_sizes = model(spect, input_sizes)\n",
    "        out = out.cpu().detach().numpy()[0]\n",
    "\n",
    "        transcript = prefix_bsp(out,labels,scorer,log=False,prune=prune,beam_size=beam_size)\n",
    "    \n",
    "        with open(reference_path.replace(\"\\n\",\"\"),\"r\") as f:\n",
    "            reference = f.readline()\n",
    "\n",
    "        wer_inst = wer_(transcript,reference)\n",
    "        total_wer += wer_inst\n",
    "        num_tokens += len(reference.split(' '))\n",
    "\n",
    "    wer = (float(total_wer) / num_tokens)*100\n",
    "    print('Test Summary \\t'\n",
    "            'Average WER {wer:.3f}\\t'.format(wer=wer))\n",
    "    \n",
    "    output +=f'{alpha}\\t{beta}\\t{wer}\\n'\n",
    "    with open(\"/home/hemant/ctc_decoders/abw.json\", \"w\") as f:\n",
    "        f.write(output)"
   ]
  },
  {
   "cell_type": "code",
   "execution_count": null,
   "metadata": {},
   "outputs": [],
   "source": []
  },
  {
   "cell_type": "code",
   "execution_count": null,
   "metadata": {},
   "outputs": [],
   "source": [
    "beta"
   ]
  },
  {
   "cell_type": "code",
   "execution_count": null,
   "metadata": {},
   "outputs": [],
   "source": []
  },
  {
   "cell_type": "code",
   "execution_count": null,
   "metadata": {},
   "outputs": [],
   "source": []
  },
  {
   "cell_type": "code",
   "execution_count": null,
   "metadata": {},
   "outputs": [],
   "source": []
  },
  {
   "cell_type": "code",
   "execution_count": null,
   "metadata": {},
   "outputs": [],
   "source": []
  }
 ],
 "metadata": {
  "kernelspec": {
   "display_name": "Python 3",
   "language": "python",
   "name": "python3"
  },
  "language_info": {
   "codemirror_mode": {
    "name": "ipython",
    "version": 3
   },
   "file_extension": ".py",
   "mimetype": "text/x-python",
   "name": "python",
   "nbconvert_exporter": "python",
   "pygments_lexer": "ipython3",
   "version": "3.6.9"
  }
 },
 "nbformat": 4,
 "nbformat_minor": 2
}
