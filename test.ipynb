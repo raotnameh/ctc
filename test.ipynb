{
 "cells": [
  {
   "cell_type": "code",
   "execution_count": 256,
   "metadata": {},
   "outputs": [],
   "source": [
    "import numpy as np\n",
    "from tqdm.auto import tqdm\n",
    "from time import time\n",
    "import json, pickle, os, string, kenlm, json\n",
    "from collections import defaultdict, Counter\n",
    "from itertools import groupby\n",
    "import Levenshtein as Lev\n",
    "import math\n"
   ]
  },
  {
   "cell_type": "code",
   "execution_count": 237,
   "metadata": {},
   "outputs": [],
   "source": [
    "def lse(*args):\n",
    "  \"\"\"\n",
    "  Stable log sum exp.\n",
    "  \"\"\"\n",
    "  if all(a == -float('inf') for a in args):\n",
    "      return -float('inf')\n",
    "  a_max = max(args)\n",
    "  lsp = math.log(sum(math.exp(a - a_max)\n",
    "                      for a in args))\n",
    "  return a_max + lsp"
   ]
  },
  {
   "cell_type": "code",
   "execution_count": 238,
   "metadata": {},
   "outputs": [],
   "source": [
    "#s1 = True text\n",
    "#s2 = predicted text\n",
    "\n",
    "def wer_(s1, s2):\n",
    "    \"\"\"\n",
    "    Computes the Word Error Rate, defined as the edit distance between the\n",
    "    two provided sentences after tokenizing to words.\n",
    "    Arguments:\n",
    "        s1 (string): space-separated sentence\n",
    "        s2 (string): space-separated sentence\n",
    "    \"\"\"\n",
    "\n",
    "    # build mapping of words to integers\n",
    "    b = set(s1.split() + s2.split())\n",
    "    word2char = dict(zip(b, range(len(b))))\n",
    "\n",
    "    # map the words to a char array (Levenshtein packages only accepts\n",
    "    # strings)\n",
    "    w1 = [chr(word2char[w]) for w in s1.split()]\n",
    "    w2 = [chr(word2char[w]) for w in s2.split()]\n",
    "    \n",
    "    return Lev.distance(''.join(w1), ''.join(w2))\n",
    "\n",
    "def cer_(s1, s2):\n",
    "    \"\"\"\n",
    "    Computes the Character Error Rate, defined as the edit distance.\n",
    "\n",
    "    Arguments:\n",
    "        s1 (string): space-separated sentence\n",
    "        s2 (string): space-separated sentence\n",
    "    \"\"\"\n",
    "    s1, s2, = s1.replace(' ', ''), s2.replace(' ', '')\n",
    "\n",
    "    return Lev.distance(s1, s2)\n",
    "\n",
    "\n",
    "\n",
    "\n",
    "#When using the above implementation, use the code belove to calculate the wer in percentatge: \n",
    "#pred = list of ouput prediction of model (it is the text) # example [\" MY NAME IS HEMANT\", \" I AM A GOD\"]\n",
    "# total_wer = 0\n",
    "# for x in range(len(pred)):\n",
    "#     transcript, reference = data_[x][1], pred[x]\n",
    "#     wer_inst = wer(transcript, reference)\n",
    "#     total_wer += float(wer_inst)\n",
    "# print(\"WER is : \",total_wer/len(pred),\"%\")\n",
    "# wer_(pred,true)/len(pred.split(' '))*100"
   ]
  },
  {
   "cell_type": "code",
   "execution_count": 239,
   "metadata": {},
   "outputs": [],
   "source": [
    "out = np.load(\"out.npy\")\n",
    "with open(\"true.txt\", \"r\") as f:\n",
    "    reference = f.read()\n",
    "    \n",
    "with open(\"pred.txt\", \"r\") as f:\n",
    "    transcript = f.read()"
   ]
  },
  {
   "cell_type": "code",
   "execution_count": 240,
   "metadata": {},
   "outputs": [],
   "source": [
    "def ctc_best_path(out,labels):\n",
    "    \"implements best path decoding as shown by Graves\"\n",
    "    out = [labels[i] for i in np.argmax(out, axis=1) if i!=labels[-1]]\n",
    "    o = \"\"\n",
    "    for i,j in groupby(out):\n",
    "        o = o + i\n",
    "    return o.replace(\"_\",\"\")"
   ]
  },
  {
   "cell_type": "code",
   "execution_count": 241,
   "metadata": {},
   "outputs": [],
   "source": [
    "labels = \"_'ABCDEFGHIJKLMNOPQRSTUVWXYZ \""
   ]
  },
  {
   "cell_type": "code",
   "execution_count": 242,
   "metadata": {},
   "outputs": [
    {
     "name": "stdout",
     "output_type": "stream",
     "text": [
      "OUR PRODATIVITY AND OUR COMMITMENT TO OUR CLIENTS XXXUM TO MAKE SURE THAT WE NEED WHAT BE XXXUM PROMISED FOR THE DEADLINE\n"
     ]
    },
    {
     "data": {
      "text/plain": [
       "19.047619047619047"
      ]
     },
     "execution_count": 242,
     "metadata": {},
     "output_type": "execute_result"
    }
   ],
   "source": [
    "gred_txt = ctc_best_path(out,labels)\n",
    "print(gred_txt)\n",
    "wer_(gred_txt,reference)/len(reference.split(' '))*100"
   ]
  },
  {
   "cell_type": "markdown",
   "metadata": {},
   "source": [
    "### WORD LM Implementation"
   ]
  },
  {
   "cell_type": "code",
   "execution_count": 315,
   "metadata": {},
   "outputs": [],
   "source": [
    "def ctc_beam_search(out,labels, prune=0.0001, k=20, lm=None,alpha=0.3,beta=12):\n",
    "    \n",
    "    bc_i = 0 # blank/special charatcter index \n",
    "    F = out.shape[1]\n",
    "    out = np.log(np.vstack((np.zeros(F), out)))\n",
    "    steps = out.shape[0]\n",
    "    \n",
    "    pb, pnb = defaultdict(Counter), defaultdict(Counter)\n",
    "    pb[0][''], pnb[0][''] = 0, -float(\"inf\")\n",
    "    prev_beams = ['']\n",
    "    for t in tqdm(range(1,steps)):\n",
    "        for b in prev_beams:           \n",
    "            for c_t in labels:\n",
    "                index = labels.index(c_t)\n",
    "                if c_t == \"_\": #Extending with a blank\n",
    "                    pb[t][b] = lse(pb[t][b],out[t][index]+pb[t-1][b], out[t][index]+pnb[t-1][b])\n",
    "                    continue\n",
    "                \n",
    "                i_plus = b + c_t\n",
    "#                 print(t,'--',i_plus,'\\n')\n",
    "                if len(b.replace(' ', '')) > 0  and c_t == b[-1]: #Extending with the same character as the last one\n",
    "                    pnb[t][b] = lse(out[t][index]+pnb[t-1][b],pnb[t][b])\n",
    "                    pnb[t][i_plus] = lse(pnb[t][i_plus],out[t][index]+pb[t-1][b])\n",
    "                elif c_t == \" \" and len(b.replace(' ', '')) > 0 : # LM constraints\n",
    "                    print(t,'--',c_t,'----',i_plus,'\\n')\n",
    "#                     prob = [i[0] for i in lm.full_scores(i_plus,eos=False,bos=False)][-1]\n",
    "#                     lm_p = (10**prob)**alpha\n",
    "#                     pnb[t][i_plus] += lm_p*out[t][index]*(pb[t-1][b] + pnb[t-1][b])*(len(b.split())+1)**beta\n",
    "                    pnb[t][i_plus] = lse(pnb[t][i_plus],out[t][index]+pb[t-1][b],out[t][index] + pnb[t-1][b])\n",
    "                else:\n",
    "                    pnb[t][i_plus] = lse(pnb[t][i_plus],out[t][index]+pb[t-1][b], out[t][index]+pnb[t-1][b])\n",
    "                    \n",
    "                # If the new beam is not in the previous beams\n",
    "#                 if i_plus not in prev_beams:\n",
    "#                     pb[t][i_plus] = lse(pb[t][i_plus],out[t][labels.index(\"_\")]+pb[t - 1][i_plus], out[t][labels.index(\"_\")]+ pnb[t - 1][i_plus])\n",
    "#                     pnb[t][i_plus] = lse(pnb[t][i_plus],out[t][index] + pnb[t - 1][i_plus])\n",
    "\n",
    "        ptot = pb[t] + pnb[t]\n",
    "        print(t,'---',ptot,'\\n')\n",
    "        prev_beams = sort_beam(ptot,k)\n",
    "        print(t,'---',prev_beams,'\\n')\n",
    "    return prev_beams[0], pb, pnb\n"
   ]
  },
  {
   "cell_type": "code",
   "execution_count": 316,
   "metadata": {
    "scrolled": true
   },
   "outputs": [
    {
     "name": "stderr",
     "output_type": "stream",
     "text": [
      "/home/hemant/.conda/envs/deep/lib/python3.6/site-packages/ipykernel_launcher.py:5: RuntimeWarning: divide by zero encountered in log\n",
      "  \"\"\"\n"
     ]
    },
    {
     "data": {
      "application/vnd.jupyter.widget-view+json": {
       "model_id": "443d4017d0ef41c7bf8b7f122718e28e",
       "version_major": 2,
       "version_minor": 0
      },
      "text/plain": [
       "HBox(children=(FloatProgress(value=0.0, max=15.0), HTML(value='')))"
      ]
     },
     "metadata": {},
     "output_type": "display_data"
    },
    {
     "name": "stdout",
     "output_type": "stream",
     "text": [
      "1 --- Counter({'': 0.6929092105053745, 'S': 0.00024981729039509143, 'T': 7.424721963053679e-05, 'I': 5.9175736937318984e-05, 'N': 1.8866742094371015e-05, 'M': 1.849540780159389e-05, 'W': 1.561804483666136e-05, 'A': 1.5216571870643262e-05, 'B': 4.4253817882818795e-06, 'Y': 3.741074402393878e-06, 'F': 3.657847077505103e-06, 'X': 3.23419317241585e-06, 'P': 1.991103381893167e-06, 'C': 1.2294217813686257e-06, 'R': 1.0764848529397004e-06, 'G': 9.655448024889328e-07, 'U': 7.547512262425191e-07, 'H': 7.164367437511687e-07, 'O': 6.900419755123499e-07, ' ': 6.83660737693999e-07, 'D': 4.988801157887766e-07, 'L': 3.214914608443128e-07, 'E': 1.7737963123885353e-07, 'V': 1.2090391245583605e-07, 'J': 9.95456680832672e-08, 'Q': 7.703289797992681e-08, 'K': 6.441670100801452e-08, 'Z': 1.5749090796263718e-08, \"'\": 7.094866891022199e-09}) \n",
      "\n",
      "1 --- [''] \n",
      "\n",
      "2 --- Counter({'': 1.38614668426133, 'S': 4.779856656685156e-05, 'H': 1.1940558746645468e-05, 'R': 9.323963212242155e-06, 'N': 8.5835310265424e-06, 'T': 7.096985929790734e-06, 'W': 7.079012291157244e-06, 'M': 4.7821768873794905e-06, 'O': 4.3409919657893475e-06, 'X': 2.818948374755083e-06, 'I': 2.450937271184929e-06, 'G': 1.9653612406614775e-06, 'F': 1.4032164430782133e-06, 'A': 1.1782397994908048e-06, 'D': 1.130435188892021e-06, 'E': 7.366912246712387e-07, 'U': 7.14396156402001e-07, 'P': 4.3775537605662736e-07, 'C': 4.0121992162212343e-07, 'L': 3.815193070876908e-07, 'Y': 2.9472700266977634e-07, 'B': 1.4994754113260755e-07, ' ': 3.8560063731340396e-08, 'K': 2.96784747925356e-08, 'V': 2.7913335253315742e-08, 'J': 6.7718370681507575e-09, \"'\": 5.8706497268785145e-09, 'Q': 1.299697904010572e-09, 'Z': 8.085430099953116e-10}) \n",
      "\n",
      "2 --- [''] \n",
      "\n",
      "3 --- Counter({'': 1.7916277412537642, 'S': 3.674898028885421e-05, 'R': 3.520530775585283e-05, 'T': 3.1091135180980604e-05, 'W': 2.1020754387919665e-05, 'O': 1.667306265660199e-05, 'H': 1.4944493713036162e-05, 'N': 9.572934053904197e-06, 'D': 6.716487246456176e-06, 'X': 5.7091010110688516e-06, 'M': 4.733035752200174e-06, 'U': 4.6816212277814745e-06, 'E': 3.234160084990147e-06, 'G': 2.924851148697274e-06, 'I': 1.7765694171040703e-06, 'F': 1.616582608727726e-06, 'A': 7.526849879539927e-07, 'B': 6.90159969933979e-07, 'P': 6.75337109789716e-07, 'Y': 4.4367484880215805e-07, 'C': 3.5582615629404067e-07, 'L': 2.787717201534149e-07, 'V': 6.68621011741782e-08, 'K': 5.675919995020402e-08, ' ': 2.2964961002275198e-08, \"'\": 1.301452714899006e-08, 'J': 5.737698966139087e-09, 'Z': 1.0864749094490008e-09, 'Q': 5.4698023873063e-10}) \n",
      "\n",
      "3 --- [''] \n",
      "\n",
      "4 --- Counter({'': 2.0792953909827494, 'W': 6.032262639171082e-05, 'R': 5.084050863997398e-05, 'E': 4.558764482185224e-05, 'S': 4.235612143038067e-05, 'N': 3.640821709802828e-05, 'H': 2.770304823790918e-05, 'T': 2.6451145562293313e-05, 'O': 2.3449386975674624e-05, 'U': 2.064009483798622e-05, 'D': 1.1799776064261e-05, 'M': 6.5675950247580184e-06, 'F': 5.217613257457275e-06, 'I': 4.559325326782515e-06, 'X': 3.8659280312344725e-06, 'Y': 2.6973284527795505e-06, 'G': 2.5787349526412024e-06, 'P': 2.4730960935850298e-06, 'B': 1.763716377907714e-06, 'A': 1.5619704672264201e-06, 'L': 8.021435644854647e-07, 'C': 4.5211986192765675e-07, 'K': 3.005203443061344e-07, 'V': 2.2442092708377963e-07, \"'\": 8.653220432173702e-08, 'J': 2.4510256190707405e-08, ' ': 1.517488168044916e-08, 'Z': 1.0839744820726108e-08, 'Q': 1.3054688432850564e-09}) \n",
      "\n",
      "4 --- [''] \n",
      "\n",
      "5 --- Counter({'': 2.30239124643122, 'E': 0.00019807860642776653, 'W': 0.0001282569790759521, 'N': 9.454576625976903e-05, 'O': 5.658527280465942e-05, 'R': 5.543631032707962e-05, 'D': 4.1929693707572896e-05, 'H': 3.909915151322666e-05, 'S': 3.874612345026421e-05, 'T': 2.553231600856916e-05, 'U': 1.974450646782651e-05, 'M': 1.938110829001073e-05, 'Y': 1.4484330082783567e-05, 'F': 8.537503833263574e-06, 'P': 6.0177114606362976e-06, 'I': 5.300074533043915e-06, 'G': 5.101905418095557e-06, 'X': 5.048764961538037e-06, 'A': 2.8366369182143162e-06, 'B': 2.340457061315724e-06, 'L': 1.0551919373330768e-06, 'K': 9.679819257452415e-07, 'C': 4.589383252797615e-07, 'V': 3.8488619678572144e-07, \"'\": 1.103542349894964e-07, 'J': 8.684450003948445e-08, 'Z': 3.653019242546008e-08, ' ': 1.2718003902407011e-08, 'Q': 2.4934374533991482e-09}) \n",
      "\n",
      "5 --- [''] \n",
      "\n",
      "6 --- Counter({'': 2.4846151788707465, 'E': 0.0005243464109795265, 'R': 0.00019763992408515027, 'D': 0.0001353716138348839, 'W': 0.00012663137782202883, 'O': 0.00011637287661455802, 'N': 9.80723172659618e-05, 'H': 8.869022051946186e-05, 'Y': 8.432067819544271e-05, 'M': 3.226532824283619e-05, 'T': 3.200990804402868e-05, 'S': 2.192661194723803e-05, 'F': 1.8210977644147888e-05, 'P': 1.802607647417545e-05, 'G': 1.5189896493948548e-05, 'A': 9.707523963710703e-06, 'U': 7.249532136546682e-06, 'B': 6.531701085774001e-06, 'L': 6.159223693616917e-06, 'X': 6.129017664566303e-06, 'I': 5.021179018569575e-06, 'K': 4.092298857174522e-06, 'V': 1.7470355751398436e-06, 'C': 1.43710665865508e-06, 'J': 2.7305559105067293e-07, \"'\": 1.700973175308047e-07, 'Z': 6.165359965682662e-08, ' ': 7.855737807157657e-09, 'Q': 3.2989892985153355e-09}) \n",
      "\n",
      "6 --- [''] \n",
      "\n",
      "7 --- Counter({'': 2.6387865815551184, 'E': 0.00013847206992614267, 'D': 3.5341930346424844e-05, 'R': 3.196453154345738e-05, 'W': 2.1496503498943282e-05, 'H': 1.7929185285053248e-05, 'N': 1.2918792837886547e-05, 'Y': 9.600676076856114e-06, 'O': 7.097897080917689e-06, 'F': 2.769994849985636e-06, 'S': 2.737665999710547e-06, 'M': 2.1840784892777753e-06, 'P': 2.092458630753763e-06, 'T': 1.930614055051747e-06, 'G': 1.1013108780096462e-06, 'L': 8.559253959622055e-07, 'K': 4.184533097146068e-07, 'I': 3.897038403136005e-07, 'B': 3.2616352939552833e-07, 'A': 2.925630001063682e-07, 'X': 1.6317568208698943e-07, 'V': 1.2552463435781287e-07, 'U': 1.1549324829028558e-07, 'C': 4.4239297912300226e-08, ' ': 3.934034398577723e-08, \"'\": 2.3590241481768923e-08, 'J': 8.136693508057975e-09, 'Z': 6.515584051048842e-09, 'Q': 7.244271848798227e-11}) \n",
      "\n",
      "7 --- [''] \n",
      "\n",
      "8 --- Counter({'': 2.772304882678299, ' ': 0.0004948857936215422, 'W': 0.00010654897502385561, 'E': 3.5587069985926834e-05, 'D': 3.256123723182748e-05, 'H': 2.0777358991160916e-05, 'R': 1.4116374406775523e-05, 'Y': 8.759339244124088e-06, 'F': 7.318992527167233e-06, 'T': 5.211448880174339e-06, 'I': 5.157207389639905e-06, 'O': 3.9709230124210995e-06, 'N': 3.595812167466668e-06, 'P': 3.499631958719072e-06, 'S': 3.1072813283308476e-06, 'M': 1.5615480946385764e-06, 'A': 1.0779847850566939e-06, 'G': 1.0553860955952653e-06, 'L': 5.755793304190895e-07, 'X': 4.301568046957004e-07, 'B': 2.2131048942566152e-07, \"'\": 1.6809268985064065e-07, 'K': 1.5748316853985725e-07, 'V': 1.4325010262255695e-07, 'C': 5.0422474923143125e-08, 'U': 9.665109998924134e-09, 'J': 9.462400151956221e-09, 'Z': 8.830952374781324e-09, 'Q': 1.4953238646190357e-10}) \n",
      "\n",
      "8 --- [''] \n",
      "\n",
      "9 --- Counter({'': 2.8874887219207874, ' ': 0.025811814240445305, 'I': 0.00985583049541306, 'H': 0.004975853616830242, 'T': 0.004180295953094634, 'W': 0.0011297445783061385, 'P': 0.00021557363776961153, \"'\": 0.0001841527482834247, 'Y': 0.00010111810642439187, 'E': 9.392096353734549e-05, 'A': 8.586407047830371e-05, 'G': 4.95829275621046e-05, 'R': 4.7687802620305734e-05, 'X': 4.118367203787412e-05, 'O': 3.461481653975279e-05, 'F': 3.072924218182586e-05, 'S': 8.453892748558013e-06, 'L': 6.697529611578747e-06, 'N': 5.931399191173893e-06, 'B': 4.940412749499947e-06, 'D': 3.588054075631048e-06, 'M': 2.543502592362954e-06, 'K': 8.672990368504625e-07, 'C': 2.97619951692613e-07, 'U': 1.5419808595736686e-07, 'V': 1.267247821874399e-07, 'J': 1.1818493773576148e-07, 'Z': 3.1605905170951026e-08, 'Q': 5.976981780521307e-09}) \n",
      "\n",
      "9 --- [''] \n",
      "\n",
      "10 --- Counter({'': 2.979026645133631, 'H': 0.18912706729874176, 'T': 0.055896629204050474, 'P': 0.006063133836721674, 'W': 0.0028413930558823085, 'F': 0.0019199100429647543, 'X': 0.0014383324325446783, ' ': 0.0008238165872304342, 'G': 0.0002873666772585734, 'L': 0.00014031161248997145, \"'\": 5.320342167474669e-05, 'B': 4.101355167796663e-05, 'S': 4.047408615962565e-05, 'Y': 3.7584166749973196e-05, 'M': 3.396537857316861e-05, 'R': 2.504525777105918e-05, 'C': 2.373152875169395e-05, 'I': 1.7067043506695514e-05, 'N': 8.09082784379184e-06, 'V': 6.880555702957953e-06, 'D': 4.41281823675799e-06, 'O': 2.1681551244410544e-06, 'A': 7.136741973142938e-07, 'Z': 6.988153596563855e-07, 'K': 5.10948434257218e-07, 'E': 3.624736173751729e-07, 'J': 2.833499138009322e-07, 'Q': 5.004019184827653e-08, 'U': 8.343150135926873e-09}) \n",
      "\n",
      "10 --- [''] \n",
      "\n",
      "11 --- Counter({'': 2.9917701812960305, 'H': 1.0103394274017043, 'O': 0.0005072833998725366, ' ': 0.0003626379699141314, 'P': 0.00015030563597854147, 'E': 6.86350756609431e-05, 'F': 5.9748497107932994e-05, 'T': 2.5572798181807926e-05, 'R': 1.0533448139945546e-05, 'I': 6.817041052989206e-06, 'S': 3.5541545322811485e-06, 'W': 3.3550055614945116e-06, 'C': 3.016119407874808e-06, \"'\": 2.0191273730067288e-06, 'A': 2.0153184279814325e-06, 'X': 1.7237013186942852e-06, 'G': 1.6404844480571539e-06, 'B': 1.5302200240803065e-06, 'L': 1.4032663304357318e-06, 'N': 8.171986023913002e-07, 'M': 7.738040241197443e-07, 'V': 4.823491630766698e-07, 'D': 1.815844165590496e-07, 'Y': 1.7659183088677445e-07, 'U': 9.297999915171195e-08, 'K': 3.650869377921607e-09, 'J': 3.3679794452139847e-09, 'Z': 1.3612253537304136e-09, 'Q': 2.1981549911202948e-10}) \n",
      "\n",
      "11 --- [''] \n",
      "\n",
      "12 --- Counter({'O': 3.0754716653028833, 'I': 0.1430478217051783, 'A': 0.07273680602108915, '': 0.02156034146950436, 'E': 0.004550502555305715, 'U': 0.0026743632591858797, 'X': 0.0021437128258558506, 'H': 0.00011718461861592636, 'Y': 0.0001127213844275609, \"'\": 7.560242649826489e-05, ' ': 5.086735865207639e-05, 'P': 2.923171363475602e-05, 'F': 1.0296203387398733e-05, 'R': 4.829088742158252e-06, 'T': 3.05757426986943e-06, 'G': 1.827486538240322e-06, 'S': 4.638980203107741e-07, 'N': 4.0805861490880925e-07, 'L': 2.761710942720589e-07, 'C': 2.6744912394314654e-07, 'V': 1.364894892775497e-07, 'B': 1.1877449762232044e-07, 'M': 9.25348508303872e-08, 'W': 8.996677553471891e-08, 'Q': 4.25274619802859e-08, 'D': 2.4256066638614532e-08, 'J': 2.0968703442461926e-08, 'Z': 1.7625217130330885e-08, 'K': 6.295894914537359e-10}) \n",
      "\n",
      "12 --- ['O'] \n",
      "\n",
      "13 --   ---- O  \n",
      "\n",
      "13 --- Counter({'O': 3.163796065586172, 'O ': 0.00017105097188571794, 'OI': 7.846946538554917e-06, 'OU': 4.54357260874106e-06, 'OF': 3.4334830218838932e-06, 'OX': 2.507429186386877e-06, 'OT': 1.066116473900904e-06, 'OO': 6.901423609207828e-07, 'OL': 4.9682695628047e-07, \"O'\": 4.0989421471853234e-07, 'OP': 3.734094389298579e-07, 'OR': 3.284207983612282e-07, 'ON': 3.108298743818824e-07, 'OH': 2.9208457117208884e-07, 'OG': 2.6940238141862907e-07, 'OS': 9.253645643477684e-08, 'OD': 6.059355011796895e-08, 'OC': 4.863305861893001e-08, 'OA': 3.477259508716772e-08, 'OY': 2.9103953267969383e-08, 'OB': 1.9159968761196383e-08, 'OV': 1.6873240440173584e-08, 'OW': 1.114530150842763e-08, 'OM': 7.24422785798943e-09, 'OE': 2.960554019773741e-09, 'OZ': 2.86243717207974e-09, 'OQ': 3.155502525444351e-10, 'OJ': 2.2033930233493237e-10, 'OK': 1.1093592710504643e-10}) \n",
      "\n",
      "13 --- ['O'] \n",
      "\n",
      "14 --   ---- O  \n",
      "\n",
      "14 --- Counter({'O': 3.244711208841039, 'OX': 0.0030332866281454116, 'O ': 0.001762626814992024, 'OF': 0.0006399548259563459, 'OO': 0.00010486735659174966, 'OU': 6.137697454234885e-05, 'OH': 1.6884937530991642e-05, 'OT': 1.4723316897516217e-05, 'OG': 1.3203281177174452e-05, 'ON': 1.1754578230628168e-05, \"O'\": 9.682256948832853e-06, 'OP': 8.51269239338432e-06, 'OL': 6.370224617870106e-06, 'OS': 3.922917033523374e-06, 'OC': 3.3680462732442494e-06, 'OB': 3.1798618748920623e-06, 'OR': 2.333644034663581e-06, 'OD': 1.5912526508118246e-06, 'OV': 1.5434485617769882e-06, 'OI': 1.505585513738079e-06, 'OW': 1.1404299061439916e-06, 'OY': 6.841220334909421e-07, 'OE': 1.8337790403448672e-07, 'OZ': 1.3325577375201923e-07, 'OM': 1.0766279732149754e-07, 'OA': 2.1084408663209427e-08, 'OQ': 1.4722264410223727e-08, 'OJ': 1.1797225793276756e-08, 'OK': 1.4035168573043923e-09}) \n",
      "\n",
      "14 --- ['O'] \n",
      "\n",
      "15 --   ---- O  \n",
      "\n",
      "15 --- Counter({'O': 3.318271128984128, 'OX': 0.026837770804071306, 'OU': 0.007651754884855305, 'O ': 0.004853850442725263, 'OF': 0.0010935442732282505, 'OH': 0.0002543300188628255, \"O'\": 0.0001758335783533345, 'OO': 0.00012623527552948908, 'OG': 0.00010450406834598871, 'OS': 0.00010090421494899476, 'OT': 3.513529842667009e-05, 'OC': 2.5066237377690983e-05, 'OW': 2.306907706767073e-05, 'ON': 1.661765457151479e-05, 'OL': 1.3867400034533388e-05, 'OV': 1.150404856234172e-05, 'OP': 6.967679826686635e-06, 'OD': 5.8420396687379474e-06, 'OR': 5.162112673378086e-06, 'OB': 4.30077784343498e-06, 'OA': 2.185402064522085e-06, 'OE': 6.247424648975791e-07, 'OY': 5.380493673069073e-07, 'OZ': 4.001251209221454e-07, 'OI': 3.398895784514277e-07, 'OM': 1.6964028919332669e-07, 'OQ': 1.2679808909424036e-07, 'OJ': 5.6934564774000536e-08, 'OK': 5.391563625454793e-09}) \n",
      "\n",
      "15 --- ['O'] \n",
      "\n",
      "\n"
     ]
    }
   ],
   "source": [
    "beam_txt, pb, pnb = ctc_beam_search(out[:15],labels,0,k=1,lm=lm_w,alpha=0,beta=0)"
   ]
  },
  {
   "cell_type": "code",
   "execution_count": 299,
   "metadata": {},
   "outputs": [
    {
     "name": "stdout",
     "output_type": "stream",
     "text": [
      "OUR PRODATIVITY AND OUR COMMITMENT TO OUR CLIENTS XXXUM TO MAKE SURE THAT WE NEED WHAT BE XXXUM PROMISED FOR THE DEADLINE\n"
     ]
    },
    {
     "data": {
      "text/plain": [
       "19.047619047619047"
      ]
     },
     "execution_count": 299,
     "metadata": {},
     "output_type": "execute_result"
    }
   ],
   "source": [
    "print(beam_txt)\n",
    "wer_(beam_txt,reference)/len(reference.split(' '))*100"
   ]
  },
  {
   "cell_type": "code",
   "execution_count": null,
   "metadata": {},
   "outputs": [],
   "source": []
  },
  {
   "cell_type": "code",
   "execution_count": null,
   "metadata": {},
   "outputs": [],
   "source": []
  },
  {
   "cell_type": "code",
   "execution_count": null,
   "metadata": {},
   "outputs": [],
   "source": []
  },
  {
   "cell_type": "code",
   "execution_count": null,
   "metadata": {},
   "outputs": [],
   "source": []
  },
  {
   "cell_type": "code",
   "execution_count": null,
   "metadata": {},
   "outputs": [],
   "source": []
  },
  {
   "cell_type": "code",
   "execution_count": null,
   "metadata": {},
   "outputs": [],
   "source": []
  },
  {
   "cell_type": "code",
   "execution_count": null,
   "metadata": {},
   "outputs": [],
   "source": []
  },
  {
   "cell_type": "code",
   "execution_count": null,
   "metadata": {},
   "outputs": [],
   "source": []
  },
  {
   "cell_type": "code",
   "execution_count": null,
   "metadata": {},
   "outputs": [],
   "source": []
  },
  {
   "cell_type": "code",
   "execution_count": null,
   "metadata": {},
   "outputs": [],
   "source": []
  },
  {
   "cell_type": "code",
   "execution_count": null,
   "metadata": {},
   "outputs": [],
   "source": []
  },
  {
   "cell_type": "code",
   "execution_count": null,
   "metadata": {},
   "outputs": [],
   "source": []
  },
  {
   "cell_type": "code",
   "execution_count": null,
   "metadata": {},
   "outputs": [],
   "source": []
  },
  {
   "cell_type": "code",
   "execution_count": 115,
   "metadata": {},
   "outputs": [],
   "source": [
    "lm_w = kenlm.LanguageModel('/home/hemant/ctc_decoders/3_gram_full.arpa')"
   ]
  },
  {
   "cell_type": "code",
   "execution_count": 140,
   "metadata": {
    "scrolled": true
   },
   "outputs": [
    {
     "name": "stderr",
     "output_type": "stream",
     "text": [
      "/home/hemant/.conda/envs/deep/lib/python3.6/site-packages/ipykernel_launcher.py:22: RuntimeWarning: divide by zero encountered in log\n"
     ]
    }
   ],
   "source": [
    "def sort_beam(ptot,k):\n",
    "    if len(ptot) < k:\n",
    "        return [i for i in ptot.keys()]\n",
    "    else:\n",
    "        dict_ = sorted(dict((v,k) for k,v in ptot.items()).items(),reverse=True)[:k]\n",
    "        return [i[1] for i in dict_]\n",
    "\n",
    "#using WORD LM\n",
    "def ctc_beam_search(out,labels, prune=0.0001, k=20, lm=None,alpha=0.3,beta=12):\n",
    "    \"implements CTC Prefix Search Decoding Algo13.043478260869565%'rithm as shown by Graves\"\n",
    "    '''\n",
    "    out = ctc output\n",
    "    labels = string of labels\n",
    "    prune = prune the ctc output\n",
    "    k=beam-width\n",
    "    lm=word age model used\n",
    "    alpha,beta = hyper-parameters\n",
    "    '''\n",
    "\n",
    "    bc_i = 0 # blank/special charatcter index \n",
    "    F = out.shape[1]\n",
    "    out = np.log(np.vstack((np.zeros(F), out)))\n",
    "    steps = out.shape[0]\n",
    "    \n",
    "    # time steps: ([beam, score]), for each time step we have a number of beams and each beam has a score.\n",
    "    pb, pnb = defaultdict(Counter), defaultdict(Counter) \n",
    "\n",
    "#     pb[0][''], pnb[0][''] = 1, 0\n",
    "    pb[0][''], pnb[0][''] = 0, -float(\"inf\")\n",
    "    prev_beams = ['']\n",
    "#     print(out)\n",
    "    for t in range(1,steps):\n",
    "        pruned_alphabet = [labels[i] for i in np.where(out[t] > prune)[0]]\n",
    "        for b in prev_beams:\n",
    "            \n",
    "            for c_t in labels: #pruned_alphabet:\n",
    "                index = labels.index(c_t)\n",
    "                #Collapsing case (copy case as the last character in the beam)\n",
    "                if c_t == \"_\": #Extending with a blank\n",
    "                    pb[t][b] = lse(pb[t][b],out[t][index]+pb[t-1][b], out[t][index]+pnb[t-1][b])\n",
    "                    continue\n",
    "                else:\n",
    "                    i_plus = b + c_t\n",
    "                    if len(b) > 0 and c_t == b[-1]: #Extending with the same character as the last one\n",
    "                        pnb[t][b] = lse(out[t][index]+pnb[t-1][b],pnb[t][b])\n",
    "                        pnb[t][i_plus] = lse(pnb[t][i_plus],out[t][index]*pb[t-1][b])\n",
    "                    #Extending case as the last character is different\n",
    "                    elif c_t == \" \" and len(b.replace(' ', '')) > 0 : # LM constraints\n",
    "                        prob = [i[0] for i in lm.full_scores(i_plus,eos=False,bos=False)][-1]\n",
    "                        lm_p = (10**prob)**alpha\n",
    "                        pnb[t][i_plus] += lm_p*out[t][index]*(pb[t-1][b] + pnb[t-1][b])*(len(b.split())+1)**beta\n",
    "                    else:\n",
    "                        pnb[t][i_plus] = lse(pnb[t][i_plus],out[t][index]+pb[t-1][b], out[t][index]+pnb[t-1][b])\n",
    "                    # If the new beam is not in the previous beams\n",
    "                    if i_plus not in prev_beams:\n",
    "                        pb[t][i_plus] = lse(pb[t][i_plus],out[t][labels.index(\"_\")]+pb[t - 1][i_plus], out[t][labels.index(\"_\")]+ pnb[t - 1][i_plus])\n",
    "                        pnb[t][i_plus] = lse(pnb[t][i_plus],out[t][index] + pnb[t - 1][i_plus])\n",
    "\n",
    "        ptot = pb[t] + pnb[t]\n",
    "#         print(t,'---',pb,'\\n',pnb,'\\n',ptot,'\\n')\n",
    "        prev_beams = sort_beam(ptot,k)\n",
    "    \n",
    "    return prev_beams[0], pb, pnb\n",
    "\n",
    "beam_txt, pb, pnb = ctc_beam_search(out[:15],labels,0,k=2,lm=lm_w,alpha=0,beta=0)\n"
   ]
  },
  {
   "cell_type": "code",
   "execution_count": 128,
   "metadata": {},
   "outputs": [
    {
     "name": "stderr",
     "output_type": "stream",
     "text": [
      "/home/hemant/.conda/envs/deep/lib/python3.6/site-packages/ipykernel_launcher.py:2: RuntimeWarning: divide by zero encountered in log\n",
      "  \n"
     ]
    },
    {
     "data": {
      "text/plain": [
       "array([-4.75996752e-04, -1.87638943e+01, -1.10931179e+01, -1.23281518e+01,\n",
       "       -1.36089660e+01, -1.45108998e+01, -1.55449735e+01, -1.25186340e+01,\n",
       "       -1.38505728e+01, -1.41489755e+01, -9.73496936e+00, -1.61226493e+01,\n",
       "       -1.65578929e+01, -1.49502947e+01, -1.08979788e+01, -1.08781004e+01,\n",
       "       -1.41865131e+01, -1.31268206e+01, -1.63790332e+01, -1.37418091e+01,\n",
       "       -8.29465583e+00, -9.50807310e+00, -1.40968773e+01, -1.59282697e+01,\n",
       "       -1.10670758e+01, -1.26417294e+01, -1.24961358e+01, -1.79664832e+01,\n",
       "       -1.41958037e+01])"
      ]
     },
     "execution_count": 128,
     "metadata": {},
     "output_type": "execute_result"
    }
   ],
   "source": [
    "F = out.shape[1]\n",
    "np.log(np.vstack((np.zeros(F), out)))[:15][1]"
   ]
  },
  {
   "cell_type": "code",
   "execution_count": null,
   "metadata": {},
   "outputs": [],
   "source": []
  },
  {
   "cell_type": "code",
   "execution_count": 145,
   "metadata": {
    "scrolled": true
   },
   "outputs": [
    {
     "name": "stderr",
     "output_type": "stream",
     "text": [
      "/home/hemant/.conda/envs/deep/lib/python3.6/site-packages/ipykernel_launcher.py:22: RuntimeWarning: divide by zero encountered in log\n"
     ]
    },
    {
     "name": "stdout",
     "output_type": "stream",
     "text": [
      " HOUR  PRODATIVVITYYAND  OOUR COMMMITMEEENTT TT OUR  CLIIEENTS XXUMMTOOMAAKEE  SURETHETT WEE  NEEDD WHAT BEXXXUMM PROMISSED  FOR TTEE DEADLINE\n"
     ]
    },
    {
     "data": {
      "text/plain": [
       "80.95238095238095"
      ]
     },
     "execution_count": 145,
     "metadata": {},
     "output_type": "execute_result"
    }
   ],
   "source": [
    "beam_txt, pb, pnb = ctc_beam_search(out,labels,0,k=100,lm=lm_w,alpha=0,beta=0)\n",
    "print(beam_txt)\n",
    "wer_(beam_txt,reference)/len(reference.split(' '))*100"
   ]
  },
  {
   "cell_type": "code",
   "execution_count": 89,
   "metadata": {},
   "outputs": [
    {
     "data": {
      "text/plain": [
       "'SRERIHOXUWAREITSHSE PRORDACITIVIVITYE ANDOH OUVRT COMNMITENMEINTSYASUZNDSRTD TOU OUR CLINRNENENTSTANXOXO XUXUMUGDTOU MAKE SUREUTHTI WEYU NEAESLYLSYSYHR WATLILI EYBIATWXEX XAXUMHTM PROXOMBISED FOR TE DEADTFLINGNEHYOFDURITU'"
      ]
     },
     "execution_count": 89,
     "metadata": {},
     "output_type": "execute_result"
    }
   ],
   "source": [
    "beam_txt"
   ]
  },
  {
   "cell_type": "code",
   "execution_count": null,
   "metadata": {},
   "outputs": [],
   "source": []
  },
  {
   "cell_type": "code",
   "execution_count": 67,
   "metadata": {},
   "outputs": [
    {
     "data": {
      "text/plain": [
       "array([[-4.7599676e-04, -1.8763895e+01, -1.1093118e+01, ...,\n",
       "        -1.2496136e+01, -1.7966484e+01, -1.4195804e+01],\n",
       "       [-3.8266913e-05, -2.0051754e+01, -1.4749942e+01, ...,\n",
       "        -1.6135670e+01, -2.2034241e+01, -1.8169502e+01],\n",
       "       [-3.9935909e-05, -1.9766520e+01, -1.5708939e+01, ...,\n",
       "        -1.6237494e+01, -2.2249647e+01, -1.9198616e+01],\n",
       "       ...,\n",
       "       [-3.5762793e-07, -1.9703728e+01, -1.9921610e+01, ...,\n",
       "        -2.6936598e+01, -3.3852917e+01, -1.5329208e+01],\n",
       "       [ 0.0000000e+00, -2.0324478e+01, -1.9751274e+01, ...,\n",
       "        -2.8223896e+01, -3.6162498e+01, -1.6910114e+01],\n",
       "       [-1.1920930e-07, -2.3349606e+01, -1.9762342e+01, ...,\n",
       "        -2.5987900e+01, -3.7774834e+01, -1.6420919e+01]], dtype=float32)"
      ]
     },
     "execution_count": 67,
     "metadata": {},
     "output_type": "execute_result"
    }
   ],
   "source": [
    "np.log(out)"
   ]
  },
  {
   "cell_type": "code",
   "execution_count": null,
   "metadata": {},
   "outputs": [],
   "source": []
  },
  {
   "cell_type": "code",
   "execution_count": null,
   "metadata": {},
   "outputs": [],
   "source": []
  },
  {
   "cell_type": "code",
   "execution_count": null,
   "metadata": {},
   "outputs": [],
   "source": []
  },
  {
   "cell_type": "code",
   "execution_count": null,
   "metadata": {},
   "outputs": [],
   "source": []
  },
  {
   "cell_type": "code",
   "execution_count": null,
   "metadata": {},
   "outputs": [],
   "source": []
  },
  {
   "cell_type": "code",
   "execution_count": null,
   "metadata": {},
   "outputs": [],
   "source": []
  },
  {
   "cell_type": "code",
   "execution_count": null,
   "metadata": {},
   "outputs": [],
   "source": []
  },
  {
   "cell_type": "code",
   "execution_count": null,
   "metadata": {},
   "outputs": [],
   "source": []
  },
  {
   "cell_type": "code",
   "execution_count": null,
   "metadata": {},
   "outputs": [],
   "source": []
  },
  {
   "cell_type": "code",
   "execution_count": null,
   "metadata": {},
   "outputs": [],
   "source": [
    "import os\n",
    "os.chdir(\"/home/hemant/E2E_NER-Through-Speech/S2T/\")\n",
    "from opts import add_decoder_args, add_inference_args\n",
    "from utils import load_model\n",
    "import os\n",
    "# from ctc_decoders import *\n",
    "import argparse\n",
    "\n",
    "import numpy as np\n",
    "import torch\n",
    "from tqdm import tqdm\n",
    "from data.data_loader import SpectrogramParser\n",
    "\n",
    "from opts import add_decoder_args, add_inference_args\n",
    "from utils import load_model"
   ]
  },
  {
   "cell_type": "code",
   "execution_count": null,
   "metadata": {
    "scrolled": true
   },
   "outputs": [],
   "source": [
    "decoding = 'beam_w'\n",
    "prune = 0.00001\n",
    "beam_width = 50\n",
    "alpha = 1\n",
    "beta = 4\n",
    "lm = kenlm.LanguageModel('/home/hemant/asr_wm/data/ner/align_wav_txt/4_gram.arpa')\n",
    "\n",
    "torch.set_grad_enabled(False)\n",
    "device = torch.device(\"cuda\")\n",
    "model = load_model(device, \"/home/hemant/asr_wm/models/deep/final.pth\")\n",
    "spect_parser = SpectrogramParser(model.audio_conf, normalize=True)\n",
    "\n",
    "torch.cuda.set_device(int(0))\n",
    "with open(\"/home/hemant/asr_wm/dev.csv\",\"r\") as f:\n",
    "    csv = f.readlines()\n",
    "\n",
    "total_cer, total_wer, num_tokens, num_chars = 0, 0, 0, 0\n",
    "lm = lm_w\n",
    "output = []\n",
    "from tqdm.auto import tqdm\n",
    "for i in tqdm(csv[:1]):\n",
    "    audio_path, reference_path = i.split(\",\")\n",
    "\n",
    "    spect = spect_parser.parse_audio(audio_path).contiguous()\n",
    "    spect = spect.view(1, 1, spect.size(0), spect.size(1))\n",
    "    spect = spect.to(device)\n",
    "\n",
    "    input_sizes = torch.IntTensor([spect.size(3)]).int()\n",
    "    out, output_sizes = model(spect, input_sizes)\n",
    "    out = out.cpu().detach().numpy()[0]\n",
    "\n",
    "    transcript = ctc_beam_search(out,labels,prune,beam_width,lm,alpha,beta)\n",
    "#     transcript = ctc_best_path(out,labels)\n",
    "    with open(reference_path.replace(\"\\n\",\"\"),\"r\") as f:\n",
    "        reference = f.readline()\n",
    "        \n",
    "#     break\n",
    "    output.append([transcript,reference])\n",
    "    wer_inst = wer_(transcript,reference)\n",
    "    cer_inst = cer_(transcript, reference)\n",
    "    total_wer += wer_inst\n",
    "    total_cer += cer_inst\n",
    "    num_tokens += len(reference.split(' '))\n",
    "    num_chars += len(reference.replace(' ', ''))\n",
    "\n",
    "        \n",
    "wer = (float(total_wer) / num_tokens)*100\n",
    "cer = (float(total_cer) / num_chars)*100\n",
    "print('Test Summary \\t'\n",
    "    'Average WER {wer:.3f}\\t'\n",
    "    'Average CER {cer:.3f}\\t?'.format(wer=wer, cer=cer))"
   ]
  },
  {
   "cell_type": "code",
   "execution_count": null,
   "metadata": {},
   "outputs": [],
   "source": []
  },
  {
   "cell_type": "code",
   "execution_count": null,
   "metadata": {},
   "outputs": [],
   "source": []
  },
  {
   "cell_type": "code",
   "execution_count": null,
   "metadata": {},
   "outputs": [],
   "source": [
    "alpha, beta = np.linspace(0.2,2,15), np.linspace(2,10,5)"
   ]
  },
  {
   "cell_type": "code",
   "execution_count": null,
   "metadata": {},
   "outputs": [],
   "source": [
    "alpha"
   ]
  },
  {
   "cell_type": "code",
   "execution_count": null,
   "metadata": {},
   "outputs": [],
   "source": [
    "beta"
   ]
  },
  {
   "cell_type": "code",
   "execution_count": null,
   "metadata": {},
   "outputs": [],
   "source": [
    "alpha, beta = np.linspace(0.2,2,15), np.linspace(0,6,15)\n",
    "values = [[i,j] for j in beta for i in alpha]\n",
    "\n",
    "total_cer, total_wer, num_tokens, num_chars = 0, 0, 0, 0\n",
    "lm = lm_w\n",
    "output = []\n",
    "\n",
    "for alpha,beta in tqdm(values):\n",
    "    for i in csv:\n",
    "        audio_path, reference_path = i.split(\",\")\n",
    "\n",
    "        spect = spect_parser.parse_audio(audio_path).contiguous()\n",
    "        spect = spect.view(1, 1, spect.size(0), spect.size(1))\n",
    "        spect = spect.to(device)\n",
    "\n",
    "        input_sizes = torch.IntTensor([spect.size(3)]).int()\n",
    "        out, output_sizes = model(spect, input_sizes)\n",
    "        out = out.cpu().detach().numpy()[0]\n",
    "\n",
    "        if decoding == \"greedy\": transcript = ctc_best_path(out,labels)\n",
    "        elif decoding == \"beam_w\": transcript = ctc_beam_search(out,labels,prune,beam_width,lm,alpha,beta)\n",
    "        elif decoding == \"beam_c\": transcript = ctc_beam_search_clm(out,labels,prune,beam_width,lm,alpha=alpha,beta=beta)\n",
    "\n",
    "        with open(reference_path.replace(\"\\n\",\"\"),\"r\") as f:\n",
    "            reference = f.readline()\n",
    "        wer_inst = wer_(transcript,reference)\n",
    "        cer_inst = cer_(transcript, reference)\n",
    "        total_wer += wer_inst\n",
    "        total_cer += cer_inst\n",
    "        num_tokens += len(reference.split(' '))\n",
    "        num_chars += len(reference.replace(' ', ''))\n",
    "    np.save(\"/home/hemant/ctc_decoders/abw.npy\",np.array(output))\n",
    "    wer = (float(total_wer) / num_tokens)*100\n",
    "    cer = (float(total_cer) / num_chars)*100\n",
    "    output.append([alpha,beta,wer])\n",
    "    print(\"aplha: \",alpha,\"beta: \",beta)\n",
    "    print('Test Summary \\t'\n",
    "        'Average WER {wer:.3f}\\t'\n",
    "        'Average CER {cer:.3f}\\t'.format(wer=wer, cer=cer))"
   ]
  },
  {
   "cell_type": "code",
   "execution_count": null,
   "metadata": {},
   "outputs": [],
   "source": []
  }
 ],
 "metadata": {
  "kernelspec": {
   "display_name": "Python 3",
   "language": "python",
   "name": "python3"
  },
  "language_info": {
   "codemirror_mode": {
    "name": "ipython",
    "version": 3
   },
   "file_extension": ".py",
   "mimetype": "text/x-python",
   "name": "python",
   "nbconvert_exporter": "python",
   "pygments_lexer": "ipython3",
   "version": "3.6.9"
  }
 },
 "nbformat": 4,
 "nbformat_minor": 2
}
