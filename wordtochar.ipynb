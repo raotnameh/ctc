{
 "cells": [
  {
   "cell_type": "markdown",
   "metadata": {},
   "source": [
    "# To train a character Language model (LM) using Kenlm"
   ]
  },
  {
   "cell_type": "code",
   "execution_count": null,
   "metadata": {
    "scrolled": true
   },
   "outputs": [],
   "source": [
    "from tqdm import tqdm\n",
    "import os\n",
    "os.chdir(\"/home/hemant/txt/\") # change the directory to the text data \n",
    "\n",
    "a = []\n",
    "m = ''\n",
    "with open(\"out.txt\",\"r\") as f: # text file contains all the sentences with a next line ('\\n') separater.\n",
    "    text = f.read()\n",
    "for i,j in tqdm(enumerate(text)):\n",
    "    if i%10000 == 9999:\n",
    "        a.append(m)\n",
    "        m = ''\n",
    "    if j == \"\\n\":\n",
    "        m = m + j\n",
    "    else: m = m + j + \" \""
   ]
  },
  {
   "cell_type": "markdown",
   "metadata": {},
   "source": [
    "### To save the data "
   ]
  },
  {
   "cell_type": "code",
   "execution_count": null,
   "metadata": {},
   "outputs": [],
   "source": [
    "with open(\"char.txt\", \"w\") as f:\n",
    "    f.write(\"\".join(a))"
   ]
  },
  {
   "cell_type": "code",
   "execution_count": null,
   "metadata": {},
   "outputs": [],
   "source": []
  }
 ],
 "metadata": {
  "kernelspec": {
   "display_name": "Python 3",
   "language": "python",
   "name": "python3"
  },
  "language_info": {
   "codemirror_mode": {
    "name": "ipython",
    "version": 3
   },
   "file_extension": ".py",
   "mimetype": "text/x-python",
   "name": "python",
   "nbconvert_exporter": "python",
   "pygments_lexer": "ipython3",
   "version": "3.6.9"
  }
 },
 "nbformat": 4,
 "nbformat_minor": 2
}
